{
 "cells": [
  {
   "cell_type": "code",
   "execution_count": 1,
   "id": "2866ae05",
   "metadata": {},
   "outputs": [],
   "source": [
    "import cobra\n",
    "import sys\n",
    "import os"
   ]
  },
  {
   "cell_type": "code",
   "execution_count": 2,
   "id": "e35a5141",
   "metadata": {
    "scrolled": true
   },
   "outputs": [
    {
     "name": "stdout",
     "output_type": "stream",
     "text": [
      "Set parameter Username\n",
      "Academic license - for non-commercial use only - expires 2025-09-19\n"
     ]
    }
   ],
   "source": [
    "model1 = cobra.io.read_sbml_model(r'Final_GEM/ksp_P2.xml')\n",
    "model2 = cobra.io.read_sbml_model(r'Final_GEM/ml_P1.xml')\n",
    "model3 = cobra.io.read_sbml_model(r'Final_GEM/csp_P3.xml')\n"
   ]
  },
  {
   "cell_type": "code",
   "execution_count": 3,
   "id": "5208dfbc",
   "metadata": {},
   "outputs": [
    {
     "name": "stdout",
     "output_type": "stream",
     "text": [
      "1757\n",
      "1824\n",
      "1996\n"
     ]
    },
    {
     "data": {
      "text/plain": [
       "0.14655455287228866"
      ]
     },
     "execution_count": 3,
     "metadata": {},
     "output_type": "execute_result"
    }
   ],
   "source": [
    "print(len(model1.reactions))\n",
    "print(len(model1.metabolites))\n",
    "print(len(model1.genes))\n",
    "\n",
    "#optimising the value#\n",
    "solution=model1.optimize()\n",
    "solution.objective_value"
   ]
  },
  {
   "cell_type": "code",
   "execution_count": 4,
   "id": "135335df",
   "metadata": {},
   "outputs": [
    {
     "name": "stdout",
     "output_type": "stream",
     "text": [
      "1120\n",
      "1203\n",
      "1172\n"
     ]
    },
    {
     "data": {
      "text/plain": [
       "0.18860556600162856"
      ]
     },
     "execution_count": 4,
     "metadata": {},
     "output_type": "execute_result"
    }
   ],
   "source": [
    "print(len(model2.reactions))\n",
    "print(len(model2.metabolites))\n",
    "print(len(model2.genes))\n",
    "\n",
    "#optimising the value#\n",
    "solution=model2.optimize()\n",
    "solution.objective_value"
   ]
  },
  {
   "cell_type": "code",
   "execution_count": 5,
   "id": "78292aaf",
   "metadata": {},
   "outputs": [
    {
     "name": "stdout",
     "output_type": "stream",
     "text": [
      "1260\n",
      "1329\n",
      "1242\n"
     ]
    },
    {
     "data": {
      "text/plain": [
       "0.08444528756683378"
      ]
     },
     "execution_count": 5,
     "metadata": {},
     "output_type": "execute_result"
    }
   ],
   "source": [
    "print(len(model3.reactions))\n",
    "print(len(model3.metabolites))\n",
    "print(len(model3.genes))\n",
    "\n",
    "#optimising the value#\n",
    "solution=model3.optimize()\n",
    "solution.objective_value"
   ]
  },
  {
   "cell_type": "code",
   "execution_count": 6,
   "id": "c7fdaabc",
   "metadata": {},
   "outputs": [],
   "source": [
    "for i in model1.metabolites:\n",
    "    if(str(i)[-2]==\"c\"):\n",
    "        j=str(i)+\"ksp\"\n",
    "        i.id=j\n",
    "        i.compartment=\"c0ksp\""
   ]
  },
  {
   "cell_type": "code",
   "execution_count": 7,
   "id": "dbb31c29",
   "metadata": {},
   "outputs": [],
   "source": [
    "for i in model2.metabolites:\n",
    "    if(str(i)[-2]==\"c\"):\n",
    "        j=str(i)+\"ml\"\n",
    "        i.id=j\n",
    "        i.compartment=\"c0ml\""
   ]
  },
  {
   "cell_type": "code",
   "execution_count": 8,
   "id": "408c01b6",
   "metadata": {},
   "outputs": [],
   "source": [
    "for i in model3.metabolites:\n",
    "    if(str(i)[-2]==\"c\"):\n",
    "        j=str(i)+\"bsp\"\n",
    "        i.id=j\n",
    "        i.compartment=\"c0bsp\""
   ]
  },
  {
   "cell_type": "code",
   "execution_count": 9,
   "id": "d2ab54dd",
   "metadata": {},
   "outputs": [
    {
     "name": "stdout",
     "output_type": "stream",
     "text": [
      "1561\n"
     ]
    }
   ],
   "source": [
    "count=0\n",
    "for i in model1.reactions:\n",
    "    if(str(i.id)[0]==\"r\"):\n",
    "        j=str(i.id)+\"ksp\"\n",
    "        i.id=j\n",
    "        count=count+1\n",
    "print(count)"
   ]
  },
  {
   "cell_type": "code",
   "execution_count": 10,
   "id": "fedb7a4d",
   "metadata": {},
   "outputs": [
    {
     "name": "stdout",
     "output_type": "stream",
     "text": [
      "1031\n"
     ]
    }
   ],
   "source": [
    "count=0\n",
    "for i in model2.reactions:\n",
    "    if(str(i.id)[0]==\"r\"):\n",
    "        j=str(i.id)+\"ml\"\n",
    "        i.id=j\n",
    "        count=count+1\n",
    "print(count)"
   ]
  },
  {
   "cell_type": "code",
   "execution_count": 11,
   "id": "2e6812ba",
   "metadata": {},
   "outputs": [
    {
     "name": "stdout",
     "output_type": "stream",
     "text": [
      "1181\n"
     ]
    }
   ],
   "source": [
    "count=0\n",
    "for i in model3.reactions:\n",
    "    if(str(i.id)[0]==\"r\"):\n",
    "        j=str(i.id)+\"bsp\"\n",
    "        i.id=j\n",
    "        count=count+1\n",
    "print(count)"
   ]
  },
  {
   "cell_type": "code",
   "execution_count": 12,
   "id": "a6fb6819",
   "metadata": {},
   "outputs": [
    {
     "name": "stdout",
     "output_type": "stream",
     "text": [
      "1\n"
     ]
    }
   ],
   "source": [
    "count=0\n",
    "for i in model1.reactions:\n",
    "    if(str(i.id)==\"bio1\"):\n",
    "        j=str(i.id)+\"ksp\"\n",
    "        i.id=j\n",
    "        count=count+1\n",
    "print(count)"
   ]
  },
  {
   "cell_type": "code",
   "execution_count": 13,
   "id": "83e5ab54",
   "metadata": {},
   "outputs": [
    {
     "name": "stdout",
     "output_type": "stream",
     "text": [
      "1\n"
     ]
    }
   ],
   "source": [
    "count=0\n",
    "for i in model2.reactions:\n",
    "    if(str(i.id)==\"bio1\"):\n",
    "        j=str(i.id)+\"ml\"\n",
    "        i.id=j\n",
    "        count=count+1\n",
    "print(count)"
   ]
  },
  {
   "cell_type": "code",
   "execution_count": 14,
   "id": "48bbdcd1",
   "metadata": {},
   "outputs": [
    {
     "name": "stdout",
     "output_type": "stream",
     "text": [
      "1\n"
     ]
    }
   ],
   "source": [
    "count=0\n",
    "for i in model3.reactions:\n",
    "    if(str(i.id)==\"bio1\"):\n",
    "        j=str(i.id)+\"bsp\"\n",
    "        i.id=j\n",
    "        count=count+1\n",
    "print(count)"
   ]
  },
  {
   "cell_type": "code",
   "execution_count": 15,
   "id": "052495c6",
   "metadata": {},
   "outputs": [
    {
     "name": "stdout",
     "output_type": "stream",
     "text": [
      "3\n"
     ]
    }
   ],
   "source": [
    "count=0\n",
    "for i in model1.reactions:\n",
    "    if(str(i.id)==\"EX_cpd11416_c0\"):continue\n",
    "    if(str(i.id)[0]==\"E\" and str(i.id)[-2]==\"c\"):\n",
    "        j=str(i.id)+\"ksp\"\n",
    "        i.id=j\n",
    "        count=count+1\n",
    "print(count)"
   ]
  },
  {
   "cell_type": "code",
   "execution_count": 17,
   "id": "dc4309cf",
   "metadata": {},
   "outputs": [
    {
     "name": "stdout",
     "output_type": "stream",
     "text": [
      "0\n"
     ]
    }
   ],
   "source": [
    "count=0\n",
    "for i in model2.reactions:\n",
    "    if(str(i.id)==\"EX_cpd11416_c0\"):continue\n",
    "    if(str(i.id)[0]==\"E\" and str(i.id)[-2]==\"c\"):\n",
    "        j=str(i.id)+\"ml\"\n",
    "        i.id=j\n",
    "        count=count+1\n",
    "print(count)"
   ]
  },
  {
   "cell_type": "code",
   "execution_count": 18,
   "id": "082f6c14",
   "metadata": {},
   "outputs": [
    {
     "name": "stdout",
     "output_type": "stream",
     "text": [
      "2\n"
     ]
    }
   ],
   "source": [
    "count=0\n",
    "for i in model3.reactions:\n",
    "    if(str(i.id)==\"EX_cpd11416_c0\"):continue\n",
    "    if(str(i.id)[0]==\"E\" and str(i.id)[-2]==\"c\"):\n",
    "        j=str(i.id)+\"bsp\"\n",
    "        i.id=j\n",
    "        count=count+1\n",
    "print(count)"
   ]
  },
  {
   "cell_type": "code",
   "execution_count": 19,
   "id": "8a88bc42",
   "metadata": {},
   "outputs": [
    {
     "name": "stdout",
     "output_type": "stream",
     "text": [
      "1756\n"
     ]
    }
   ],
   "source": [
    "from cobra import Model, Reaction, Metabolite\n",
    "model = Model('GCM_A13')\n",
    "count=0\n",
    "for i in model1.reactions:\n",
    "    if(str(i.id)==\"EX_cpd11416_c0\"):\n",
    "        continue\n",
    "    reaction=model1.reactions.get_by_id(str(i.id))\n",
    "    reaction.reaction\n",
    "    count=count+1\n",
    "    model.add_reactions([reaction])\n",
    "        \n",
    "print(count)"
   ]
  },
  {
   "cell_type": "code",
   "execution_count": 20,
   "id": "d11ed748",
   "metadata": {},
   "outputs": [
    {
     "name": "stderr",
     "output_type": "stream",
     "text": [
      "Ignoring reaction 'EX_cpd11416_b' since it already exists.\n",
      "Ignoring reaction 'EX_cpd00067_b' since it already exists.\n",
      "Ignoring reaction 'EX_cpd00001_b' since it already exists.\n",
      "Ignoring reaction 'EX_cpd00058_b' since it already exists.\n",
      "Ignoring reaction 'EX_cpd00051_b' since it already exists.\n",
      "Ignoring reaction 'EX_cpd00100_b' since it already exists.\n",
      "Ignoring reaction 'EX_cpd00060_b' since it already exists.\n",
      "Ignoring reaction 'EX_cpd00034_b' since it already exists.\n",
      "Ignoring reaction 'EX_cpd00027_b' since it already exists.\n",
      "Ignoring reaction 'EX_cpd00035_b' since it already exists.\n",
      "Ignoring reaction 'EX_cpd00254_b' since it already exists.\n",
      "Ignoring reaction 'EX_cpd00039_b' since it already exists.\n",
      "Ignoring reaction 'EX_cpd00009_b' since it already exists.\n",
      "Ignoring reaction 'EX_cpd00129_b' since it already exists.\n",
      "Ignoring reaction 'EX_cpd10516_b' since it already exists.\n",
      "Ignoring reaction 'EX_cpd00149_b' since it already exists.\n",
      "Ignoring reaction 'EX_cpd00226_b' since it already exists.\n",
      "Ignoring reaction 'EX_cpd00048_b' since it already exists.\n",
      "Ignoring reaction 'EX_cpd00007_b' since it already exists.\n",
      "Ignoring reaction 'EX_cpd00011_b' since it already exists.\n",
      "Ignoring reaction 'EX_cpd00099_b' since it already exists.\n",
      "Ignoring reaction 'EX_cpd00063_b' since it already exists.\n",
      "Ignoring reaction 'EX_cpd00030_b' since it already exists.\n",
      "Ignoring reaction 'EX_cpd00205_b' since it already exists.\n",
      "Ignoring reaction 'EX_cpd00067_e0' since it already exists.\n",
      "Ignoring reaction 'EX_cpd11576_e0' since it already exists.\n",
      "Ignoring reaction 'EX_cpd04097_e0' since it already exists.\n",
      "Ignoring reaction 'EX_cpd00012_e0' since it already exists.\n",
      "Ignoring reaction 'EX_cpd01012_e0' since it already exists.\n",
      "Ignoring reaction 'EX_cpd00001_e0' since it already exists.\n",
      "Ignoring reaction 'EX_cpd00023_e0' since it already exists.\n",
      "Ignoring reaction 'EX_cpd00971_e0' since it already exists.\n",
      "Ignoring reaction 'EX_cpd00058_e0' since it already exists.\n",
      "Ignoring reaction 'EX_cpd00013_e0' since it already exists.\n",
      "Ignoring reaction 'EX_cpd00051_e0' since it already exists.\n",
      "Ignoring reaction 'EX_cpd00064_e0' since it already exists.\n",
      "Ignoring reaction 'EX_cpd00244_e0' since it already exists.\n",
      "Ignoring reaction 'EX_cpd11578_e0' since it already exists.\n",
      "Ignoring reaction 'EX_cpd00100_e0' since it already exists.\n",
      "Ignoring reaction 'EX_cpd00060_e0' since it already exists.\n",
      "Ignoring reaction 'EX_cpd00034_e0' since it already exists.\n",
      "Ignoring reaction 'EX_cpd00027_e0' since it already exists.\n",
      "Ignoring reaction 'EX_cpd11579_e0' since it already exists.\n",
      "Ignoring reaction 'EX_cpd00210_e0' since it already exists.\n",
      "Ignoring reaction 'EX_cpd00637_e0' since it already exists.\n",
      "Ignoring reaction 'EX_cpd00035_e0' since it already exists.\n",
      "Ignoring reaction 'EX_cpd00117_e0' since it already exists.\n",
      "Ignoring reaction 'EX_cpd00254_e0' since it already exists.\n",
      "Ignoring reaction 'EX_cpd00159_e0' since it already exists.\n",
      "Ignoring reaction 'EX_cpd03048_e0' since it already exists.\n",
      "Ignoring reaction 'EX_cpd11596_e0' since it already exists.\n",
      "Ignoring reaction 'EX_cpd00039_e0' since it already exists.\n",
      "Ignoring reaction 'EX_cpd00009_e0' since it already exists.\n",
      "Ignoring reaction 'EX_cpd00129_e0' since it already exists.\n",
      "Ignoring reaction 'EX_cpd10516_e0' since it already exists.\n",
      "Ignoring reaction 'EX_cpd00149_e0' since it already exists.\n",
      "Ignoring reaction 'EX_cpd01914_e0' since it already exists.\n",
      "Ignoring reaction 'EX_cpd00531_e0' since it already exists.\n",
      "Ignoring reaction 'EX_cpd00395_e0' since it already exists.\n",
      "Ignoring reaction 'EX_cpd00138_e0' since it already exists.\n",
      "Ignoring reaction 'EX_cpd11575_e0' since it already exists.\n",
      "Ignoring reaction 'EX_cpd00226_e0' since it already exists.\n",
      "Ignoring reaction 'EX_cpd09878_e0' since it already exists.\n",
      "Ignoring reaction 'EX_cpd00048_e0' since it already exists.\n",
      "Ignoring reaction 'EX_cpd00007_e0' since it already exists.\n",
      "Ignoring reaction 'EX_cpd08023_e0' since it already exists.\n",
      "Ignoring reaction 'EX_cpd00305_e0' since it already exists.\n",
      "Ignoring reaction 'EX_cpd00011_e0' since it already exists.\n",
      "Ignoring reaction 'EX_cpd00099_e0' since it already exists.\n",
      "Ignoring reaction 'EX_cpd00063_e0' since it already exists.\n",
      "Ignoring reaction 'EX_cpd00030_e0' since it already exists.\n",
      "Ignoring reaction 'EX_cpd00205_e0' since it already exists.\n",
      "Ignoring reaction 'EX_cpd11746_e0' since it already exists.\n",
      "Ignoring reaction 'EX_cpd11746_b' since it already exists.\n"
     ]
    },
    {
     "name": "stdout",
     "output_type": "stream",
     "text": [
      "1119\n"
     ]
    }
   ],
   "source": [
    "count=0\n",
    "for i in model2.reactions:\n",
    "    if(str(i.id)==\"EX_cpd11416_c0\"):\n",
    "        continue\n",
    "    reaction=model2.reactions.get_by_id(str(i.id))\n",
    "    reaction.reaction\n",
    "    count=count+1\n",
    "    model.add_reactions([reaction])\n",
    "        \n",
    "print(count)"
   ]
  },
  {
   "cell_type": "code",
   "execution_count": 21,
   "id": "c696f77e",
   "metadata": {},
   "outputs": [
    {
     "name": "stderr",
     "output_type": "stream",
     "text": [
      "Ignoring reaction 'EX_cpd11416_b' since it already exists.\n",
      "Ignoring reaction 'EX_cpd00067_b' since it already exists.\n",
      "Ignoring reaction 'EX_cpd00276_b' since it already exists.\n",
      "Ignoring reaction 'EX_cpd00001_b' since it already exists.\n",
      "Ignoring reaction 'EX_cpd00023_b' since it already exists.\n",
      "Ignoring reaction 'EX_cpd00058_b' since it already exists.\n",
      "Ignoring reaction 'EX_cpd00013_b' since it already exists.\n",
      "Ignoring reaction 'EX_cpd00051_b' since it already exists.\n",
      "Ignoring reaction 'EX_cpd00064_b' since it already exists.\n",
      "Ignoring reaction 'EX_cpd00100_b' since it already exists.\n",
      "Ignoring reaction 'EX_cpd00034_b' since it already exists.\n",
      "Ignoring reaction 'EX_cpd10516_b' since it already exists.\n",
      "Ignoring reaction 'EX_cpd00027_b' since it already exists.\n",
      "Ignoring reaction 'EX_cpd00322_b' since it already exists.\n",
      "Ignoring reaction 'EX_cpd00122_b' since it already exists.\n",
      "Ignoring reaction 'EX_cpd00254_b' since it already exists.\n",
      "Ignoring reaction 'EX_cpd00205_b' since it already exists.\n",
      "Ignoring reaction 'EX_cpd00048_b' since it already exists.\n",
      "Ignoring reaction 'EX_cpd00030_b' since it already exists.\n",
      "Ignoring reaction 'EX_cpd00149_b' since it already exists.\n",
      "Ignoring reaction 'EX_cpd00226_b' since it already exists.\n",
      "Ignoring reaction 'EX_cpd00007_b' since it already exists.\n",
      "Ignoring reaction 'EX_cpd00011_b' since it already exists.\n",
      "Ignoring reaction 'EX_cpd00063_b' since it already exists.\n",
      "Ignoring reaction 'EX_cpd00009_b' since it already exists.\n",
      "Ignoring reaction 'EX_cpd00099_b' since it already exists.\n",
      "Ignoring reaction 'EX_cpd00067_e0' since it already exists.\n",
      "Ignoring reaction 'EX_cpd04097_e0' since it already exists.\n",
      "Ignoring reaction 'EX_cpd01030_e0' since it already exists.\n",
      "Ignoring reaction 'EX_cpd01012_e0' since it already exists.\n",
      "Ignoring reaction 'EX_cpd00208_e0' since it already exists.\n",
      "Ignoring reaction 'EX_cpd00276_e0' since it already exists.\n",
      "Ignoring reaction 'EX_cpd00082_e0' since it already exists.\n",
      "Ignoring reaction 'EX_cpd00001_e0' since it already exists.\n",
      "Ignoring reaction 'EX_cpd00023_e0' since it already exists.\n",
      "Ignoring reaction 'EX_cpd00971_e0' since it already exists.\n",
      "Ignoring reaction 'EX_cpd00058_e0' since it already exists.\n",
      "Ignoring reaction 'EX_cpd00314_e0' since it already exists.\n",
      "Ignoring reaction 'EX_cpd00013_e0' since it already exists.\n",
      "Ignoring reaction 'EX_cpd00051_e0' since it already exists.\n",
      "Ignoring reaction 'EX_cpd00064_e0' since it already exists.\n",
      "Ignoring reaction 'EX_cpd00179_e0' since it already exists.\n",
      "Ignoring reaction 'EX_cpd00100_e0' since it already exists.\n",
      "Ignoring reaction 'EX_cpd00034_e0' since it already exists.\n",
      "Ignoring reaction 'EX_cpd10516_e0' since it already exists.\n",
      "Ignoring reaction 'EX_cpd00027_e0' since it already exists.\n",
      "Ignoring reaction 'EX_cpd00076_e0' since it already exists.\n",
      "Ignoring reaction 'EX_cpd00322_e0' since it already exists.\n",
      "Ignoring reaction 'EX_cpd01171_e0' since it already exists.\n",
      "Ignoring reaction 'EX_cpd00122_e0' since it already exists.\n",
      "Ignoring reaction 'EX_cpd03696_e0' since it already exists.\n",
      "Ignoring reaction 'EX_cpd00588_e0' since it already exists.\n",
      "Ignoring reaction 'EX_cpd00254_e0' since it already exists.\n",
      "Ignoring reaction 'EX_cpd00205_e0' since it already exists.\n",
      "Ignoring reaction 'EX_cpd00138_e0' since it already exists.\n",
      "Ignoring reaction 'EX_cpd00048_e0' since it already exists.\n",
      "Ignoring reaction 'EX_cpd00030_e0' since it already exists.\n",
      "Ignoring reaction 'EX_cpd00149_e0' since it already exists.\n",
      "Ignoring reaction 'EX_cpd00531_e0' since it already exists.\n",
      "Ignoring reaction 'EX_cpd00794_e0' since it already exists.\n",
      "Ignoring reaction 'EX_cpd00226_e0' since it already exists.\n",
      "Ignoring reaction 'EX_cpd00104_e0' since it already exists.\n",
      "Ignoring reaction 'EX_cpd00007_e0' since it already exists.\n",
      "Ignoring reaction 'EX_cpd00305_e0' since it already exists.\n",
      "Ignoring reaction 'EX_cpd00011_e0' since it already exists.\n",
      "Ignoring reaction 'EX_cpd00063_e0' since it already exists.\n",
      "Ignoring reaction 'EX_cpd00009_e0' since it already exists.\n",
      "Ignoring reaction 'EX_cpd00099_e0' since it already exists.\n",
      "Ignoring reaction 'EX_cpd11746_e0' since it already exists.\n",
      "Ignoring reaction 'EX_cpd11746_b' since it already exists.\n"
     ]
    },
    {
     "name": "stdout",
     "output_type": "stream",
     "text": [
      "1259\n"
     ]
    }
   ],
   "source": [
    "count=0\n",
    "for i in model3.reactions:\n",
    "    if(str(i.id)==\"EX_cpd11416_c0\"):\n",
    "        continue\n",
    "    reaction=model3.reactions.get_by_id(str(i.id))\n",
    "    reaction.reaction\n",
    "    count=count+1\n",
    "    model.add_reactions([reaction])\n",
    "        \n",
    "print(count)"
   ]
  },
  {
   "cell_type": "code",
   "execution_count": 22,
   "id": "377dda1a",
   "metadata": {},
   "outputs": [
    {
     "name": "stdout",
     "output_type": "stream",
     "text": [
      "3990\n",
      "4164\n",
      "2203\n"
     ]
    }
   ],
   "source": [
    "print(len(model.reactions))\n",
    "print(len(model.metabolites))\n",
    "print(len(model.genes))"
   ]
  },
  {
   "cell_type": "code",
   "execution_count": 23,
   "id": "d0e9f0a3",
   "metadata": {},
   "outputs": [],
   "source": [
    "from cobra import Metabolite\n",
    "cpd11416_c0 = Metabolite(\n",
    "    'cpd11416_c0',\n",
    "    name='Complete_Biomass',\n",
    "    compartment='c0')"
   ]
  },
  {
   "cell_type": "code",
   "execution_count": 24,
   "id": "7dcfdc56",
   "metadata": {},
   "outputs": [],
   "source": [
    "from cobra import Metabolite\n",
    "cpd11416_b = Metabolite(\n",
    "    'cpd11416_b',\n",
    "    name='Complete_Biomass',\n",
    "    compartment='e0'\n",
    "    )"
   ]
  },
  {
   "cell_type": "code",
   "execution_count": 25,
   "id": "571e0c69",
   "metadata": {},
   "outputs": [
    {
     "name": "stdout",
     "output_type": "stream",
     "text": [
      "1259\n"
     ]
    }
   ],
   "source": [
    "reaction = Reaction('Bio1')\n",
    "reaction.name = ('Community_biomass')\n",
    "reaction.lower_bound = 0\n",
    "reaction.upper_bound = 1000\n",
    "\n",
    "reaction.add_metabolites({model1.metabolites.get_by_id(\"cpd11416_c0ksp\"): -0.276,\n",
    "                          model2.metabolites.get_by_id(\"cpd11416_c0ml\"): -0.353,\n",
    "                          model3.metabolites.get_by_id(\"cpd11416_c0bsp\"): -0.371,\n",
    "                          cpd11416_c0: 1\n",
    "                         })\n",
    "\n",
    "        \n",
    "reaction.reaction\n",
    "model.add_reactions([reaction])\n",
    "print(count)"
   ]
  },
  {
   "cell_type": "code",
   "execution_count": 27,
   "id": "c087e506",
   "metadata": {},
   "outputs": [],
   "source": [
    "reaction = Reaction('EX_cpd11416_c0')\n",
    "reaction.name = ('EX_cpd11416_c0')\n",
    "reaction.lower_bound = 0\n",
    "reaction.upper_bound = 1000\n",
    "\n",
    "reaction.add_metabolites({\n",
    "                          model.metabolites.get_by_id(\"cpd11416_c0\"): -1,\n",
    "                          cpd11416_b: 1\n",
    "                        })\n",
    "\n",
    "        \n",
    "reaction.reaction\n",
    "model.add_reactions([reaction])"
   ]
  },
  {
   "cell_type": "code",
   "execution_count": 31,
   "id": "57c9d2ca",
   "metadata": {},
   "outputs": [
    {
     "name": "stdout",
     "output_type": "stream",
     "text": [
      "3992\n",
      "4165\n",
      "2203\n"
     ]
    }
   ],
   "source": [
    "print(len(model.reactions))\n",
    "print(len(model.metabolites))\n",
    "print(len(model.genes))"
   ]
  },
  {
   "cell_type": "code",
   "execution_count": 33,
   "id": "2685f14d",
   "metadata": {},
   "outputs": [],
   "source": [
    "model.objective = 'Bio1'"
   ]
  },
  {
   "cell_type": "code",
   "execution_count": 48,
   "id": "087b2128",
   "metadata": {},
   "outputs": [],
   "source": [
    "cobra.io.write_sbml_model(model,'GCM/GCM_P1_P2_P5.xml')"
   ]
  },
  {
   "cell_type": "code",
   "execution_count": null,
   "id": "682038d5-0bb9-4752-82e7-b6e7139eb8de",
   "metadata": {},
   "outputs": [],
   "source": []
  }
 ],
 "metadata": {
  "kernelspec": {
   "display_name": "Python 3 (ipykernel)",
   "language": "python",
   "name": "python3"
  },
  "language_info": {
   "codemirror_mode": {
    "name": "ipython",
    "version": 3
   },
   "file_extension": ".py",
   "mimetype": "text/x-python",
   "name": "python",
   "nbconvert_exporter": "python",
   "pygments_lexer": "ipython3",
   "version": "3.12.4"
  }
 },
 "nbformat": 4,
 "nbformat_minor": 5
}
