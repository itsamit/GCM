{
 "cells": [
  {
   "cell_type": "code",
   "execution_count": 1,
   "id": "0a5eaefd",
   "metadata": {},
   "outputs": [],
   "source": [
    "import cobra\n",
    "import sys\n",
    "import os"
   ]
  },
  {
   "cell_type": "code",
   "execution_count": 2,
   "id": "be6d1f6c",
   "metadata": {
    "scrolled": true
   },
   "outputs": [
    {
     "name": "stdout",
     "output_type": "stream",
     "text": [
      "Set parameter Username\n",
      "Academic license - for non-commercial use only - expires 2025-09-19\n"
     ]
    }
   ],
   "source": [
    "model1 = cobra.io.read_sbml_model(r'Final_GEM/ml_P1.xml')\n",
    "model2 = cobra.io.read_sbml_model(r'Final_GEM/ksp_P2.xml')\n",
    "model3 = cobra.io.read_sbml_model(r'Final_GEM/osp_P4.xml')"
   ]
  },
  {
   "cell_type": "code",
   "execution_count": 3,
   "id": "cf5016bf",
   "metadata": {},
   "outputs": [
    {
     "name": "stdout",
     "output_type": "stream",
     "text": [
      "1120\n",
      "1203\n",
      "1172\n"
     ]
    },
    {
     "data": {
      "text/plain": [
       "0.18860556600162856"
      ]
     },
     "execution_count": 3,
     "metadata": {},
     "output_type": "execute_result"
    }
   ],
   "source": [
    "print(len(model1.reactions))\n",
    "print(len(model1.metabolites))\n",
    "print(len(model1.genes))\n",
    "\n",
    "#optimising the value#\n",
    "solution=model1.optimize()\n",
    "solution.objective_value"
   ]
  },
  {
   "cell_type": "code",
   "execution_count": 4,
   "id": "e62cfc84",
   "metadata": {},
   "outputs": [
    {
     "name": "stdout",
     "output_type": "stream",
     "text": [
      "1757\n",
      "1824\n",
      "1996\n"
     ]
    },
    {
     "data": {
      "text/plain": [
       "0.14655455287228866"
      ]
     },
     "execution_count": 4,
     "metadata": {},
     "output_type": "execute_result"
    }
   ],
   "source": [
    "print(len(model2.reactions))\n",
    "print(len(model2.metabolites))\n",
    "print(len(model2.genes))\n",
    "\n",
    "#optimising the value#\n",
    "solution=model2.optimize()\n",
    "solution.objective_value"
   ]
  },
  {
   "cell_type": "code",
   "execution_count": 5,
   "id": "fbbbd2a4",
   "metadata": {},
   "outputs": [
    {
     "name": "stdout",
     "output_type": "stream",
     "text": [
      "1559\n",
      "1594\n",
      "2446\n"
     ]
    },
    {
     "data": {
      "text/plain": [
       "0.06939037480629724"
      ]
     },
     "execution_count": 5,
     "metadata": {},
     "output_type": "execute_result"
    }
   ],
   "source": [
    "print(len(model3.reactions))\n",
    "print(len(model3.metabolites))\n",
    "print(len(model3.genes))\n",
    "\n",
    "#optimising the value#\n",
    "solution=model3.optimize()\n",
    "solution.objective_value"
   ]
  },
  {
   "cell_type": "code",
   "execution_count": 6,
   "id": "963561fa",
   "metadata": {},
   "outputs": [],
   "source": [
    "for i in model1.metabolites:\n",
    "    if(str(i)[-2]==\"c\"):\n",
    "        j=str(i)+\"ml\"\n",
    "        i.id=j\n",
    "        i.compartment=\"c0ml\""
   ]
  },
  {
   "cell_type": "code",
   "execution_count": 8,
   "id": "daf238cf",
   "metadata": {},
   "outputs": [],
   "source": [
    "for i in model2.metabolites:\n",
    "    if(str(i)[-2]==\"c\"):\n",
    "        j=str(i)+\"ksp\"\n",
    "        i.id=j\n",
    "        i.compartment=\"ksp\""
   ]
  },
  {
   "cell_type": "code",
   "execution_count": 9,
   "id": "f8002a6e",
   "metadata": {},
   "outputs": [],
   "source": [
    "for i in model3.metabolites:\n",
    "    if(str(i)[-2]==\"c\"):\n",
    "        j=str(i)+\"osp\"\n",
    "        i.id=j\n",
    "        i.compartment=\"osp\""
   ]
  },
  {
   "cell_type": "code",
   "execution_count": 10,
   "id": "af3a9d66",
   "metadata": {},
   "outputs": [
    {
     "name": "stdout",
     "output_type": "stream",
     "text": [
      "1031\n"
     ]
    }
   ],
   "source": [
    "count=0\n",
    "for i in model1.reactions:\n",
    "    if(str(i.id)[0]==\"r\"):\n",
    "        j=str(i.id)+\"ml\"\n",
    "        i.id=j\n",
    "        count=count+1\n",
    "print(count)"
   ]
  },
  {
   "cell_type": "code",
   "execution_count": 11,
   "id": "c05fc0d9",
   "metadata": {},
   "outputs": [
    {
     "name": "stdout",
     "output_type": "stream",
     "text": [
      "1561\n"
     ]
    }
   ],
   "source": [
    "count=0\n",
    "for i in model2.reactions:\n",
    "    if(str(i.id)[0]==\"r\"):\n",
    "        j=str(i.id)+\"ksp\"\n",
    "        i.id=j\n",
    "        count=count+1\n",
    "print(count)"
   ]
  },
  {
   "cell_type": "code",
   "execution_count": 12,
   "id": "6266edf7",
   "metadata": {},
   "outputs": [
    {
     "name": "stdout",
     "output_type": "stream",
     "text": [
      "1361\n"
     ]
    }
   ],
   "source": [
    "count=0\n",
    "for i in model3.reactions:\n",
    "    if(str(i.id)[0]==\"r\"):\n",
    "        j=str(i.id)+\"osp\"\n",
    "        i.id=j\n",
    "        count=count+1\n",
    "print(count)"
   ]
  },
  {
   "cell_type": "code",
   "execution_count": 13,
   "id": "d8ff5d78",
   "metadata": {},
   "outputs": [
    {
     "name": "stdout",
     "output_type": "stream",
     "text": [
      "1\n"
     ]
    }
   ],
   "source": [
    "count=0\n",
    "for i in model1.reactions:\n",
    "    if(str(i.id)==\"bio1\"):\n",
    "        j=str(i.id)+\"ml\"\n",
    "        i.id=j\n",
    "        count=count+1\n",
    "print(count)"
   ]
  },
  {
   "cell_type": "code",
   "execution_count": 14,
   "id": "1e6378a9",
   "metadata": {},
   "outputs": [
    {
     "name": "stdout",
     "output_type": "stream",
     "text": [
      "1\n"
     ]
    }
   ],
   "source": [
    "count=0\n",
    "for i in model2.reactions:\n",
    "    if(str(i.id)==\"bio1\"):\n",
    "        j=str(i.id)+\"ksp\"\n",
    "        i.id=j\n",
    "        count=count+1\n",
    "print(count)"
   ]
  },
  {
   "cell_type": "code",
   "execution_count": 15,
   "id": "d1ab8e03",
   "metadata": {},
   "outputs": [
    {
     "name": "stdout",
     "output_type": "stream",
     "text": [
      "1\n"
     ]
    }
   ],
   "source": [
    "count=0\n",
    "for i in model3.reactions:\n",
    "    if(str(i.id)==\"bio1\"):\n",
    "        j=str(i.id)+\"osp\"\n",
    "        i.id=j\n",
    "        count=count+1\n",
    "print(count)"
   ]
  },
  {
   "cell_type": "code",
   "execution_count": 16,
   "id": "5ab53cf4",
   "metadata": {},
   "outputs": [
    {
     "name": "stdout",
     "output_type": "stream",
     "text": [
      "0\n"
     ]
    }
   ],
   "source": [
    "count=0\n",
    "for i in model1.reactions:\n",
    "    if(str(i.id)==\"EX_cpd11416_c0\"):continue\n",
    "    if(str(i.id)[0]==\"E\" and str(i.id)[-2]==\"c\"):\n",
    "        j=str(i.id)+\"ml\"\n",
    "        i.id=j\n",
    "        count=count+1\n",
    "print(count)"
   ]
  },
  {
   "cell_type": "code",
   "execution_count": 17,
   "id": "f1880d42",
   "metadata": {},
   "outputs": [
    {
     "name": "stdout",
     "output_type": "stream",
     "text": [
      "3\n"
     ]
    }
   ],
   "source": [
    "count=0\n",
    "for i in model2.reactions:\n",
    "    if(str(i.id)==\"EX_cpd11416_c0\"):continue\n",
    "    if(str(i.id)[0]==\"E\" and str(i.id)[-2]==\"c\"):\n",
    "        j=str(i.id)+\"ksp\"\n",
    "        i.id=j\n",
    "        count=count+1\n",
    "print(count)"
   ]
  },
  {
   "cell_type": "code",
   "execution_count": 18,
   "id": "bb9d7ce9",
   "metadata": {},
   "outputs": [
    {
     "name": "stdout",
     "output_type": "stream",
     "text": [
      "3\n"
     ]
    }
   ],
   "source": [
    "count=0\n",
    "for i in model3.reactions:\n",
    "    if(str(i.id)==\"EX_cpd11416_c0\"):continue\n",
    "    if(str(i.id)[0]==\"E\" and str(i.id)[-2]==\"c\"):\n",
    "        j=str(i.id)+\"osp\"\n",
    "        i.id=j\n",
    "        count=count+1\n",
    "print(count)"
   ]
  },
  {
   "cell_type": "code",
   "execution_count": 19,
   "id": "55c85624",
   "metadata": {},
   "outputs": [
    {
     "name": "stdout",
     "output_type": "stream",
     "text": [
      "1119\n"
     ]
    }
   ],
   "source": [
    "from cobra import Model, Reaction, Metabolite\n",
    "model = Model('GCM_A12')\n",
    "count=0\n",
    "for i in model1.reactions:\n",
    "    if(str(i.id)==\"EX_cpd11416_c0\"):\n",
    "        continue\n",
    "    reaction=model1.reactions.get_by_id(str(i.id))\n",
    "    reaction.reaction\n",
    "    count=count+1\n",
    "    model.add_reactions([reaction])\n",
    "        \n",
    "print(count)"
   ]
  },
  {
   "cell_type": "code",
   "execution_count": 20,
   "id": "db60ba45",
   "metadata": {},
   "outputs": [
    {
     "name": "stderr",
     "output_type": "stream",
     "text": [
      "Ignoring reaction 'EX_cpd11416_b' since it already exists.\n",
      "Ignoring reaction 'EX_cpd00067_b' since it already exists.\n",
      "Ignoring reaction 'EX_cpd00129_b' since it already exists.\n",
      "Ignoring reaction 'EX_cpd00039_b' since it already exists.\n",
      "Ignoring reaction 'EX_cpd00063_b' since it already exists.\n",
      "Ignoring reaction 'EX_cpd00058_b' since it already exists.\n",
      "Ignoring reaction 'EX_cpd00051_b' since it already exists.\n",
      "Ignoring reaction 'EX_cpd00100_b' since it already exists.\n",
      "Ignoring reaction 'EX_cpd00009_b' since it already exists.\n",
      "Ignoring reaction 'EX_cpd00060_b' since it already exists.\n",
      "Ignoring reaction 'EX_cpd00034_b' since it already exists.\n",
      "Ignoring reaction 'EX_cpd10516_b' since it already exists.\n",
      "Ignoring reaction 'EX_cpd00035_b' since it already exists.\n",
      "Ignoring reaction 'EX_cpd00254_b' since it already exists.\n",
      "Ignoring reaction 'EX_cpd00205_b' since it already exists.\n",
      "Ignoring reaction 'EX_cpd00048_b' since it already exists.\n",
      "Ignoring reaction 'EX_cpd00030_b' since it already exists.\n",
      "Ignoring reaction 'EX_cpd00149_b' since it already exists.\n",
      "Ignoring reaction 'EX_cpd00099_b' since it already exists.\n",
      "Ignoring reaction 'EX_cpd00027_b' since it already exists.\n",
      "Ignoring reaction 'EX_cpd00226_b' since it already exists.\n",
      "Ignoring reaction 'EX_cpd00007_b' since it already exists.\n",
      "Ignoring reaction 'EX_cpd00011_b' since it already exists.\n",
      "Ignoring reaction 'EX_cpd00067_e0' since it already exists.\n",
      "Ignoring reaction 'EX_cpd11576_e0' since it already exists.\n",
      "Ignoring reaction 'EX_cpd04097_e0' since it already exists.\n",
      "Ignoring reaction 'EX_cpd00012_e0' since it already exists.\n",
      "Ignoring reaction 'EX_cpd00129_e0' since it already exists.\n",
      "Ignoring reaction 'EX_cpd00971_e0' since it already exists.\n",
      "Ignoring reaction 'EX_cpd01012_e0' since it already exists.\n",
      "Ignoring reaction 'EX_cpd00039_e0' since it already exists.\n",
      "Ignoring reaction 'EX_cpd00001_e0' since it already exists.\n",
      "Ignoring reaction 'EX_cpd00023_e0' since it already exists.\n",
      "Ignoring reaction 'EX_cpd00063_e0' since it already exists.\n",
      "Ignoring reaction 'EX_cpd00058_e0' since it already exists.\n",
      "Ignoring reaction 'EX_cpd00013_e0' since it already exists.\n",
      "Ignoring reaction 'EX_cpd00051_e0' since it already exists.\n",
      "Ignoring reaction 'EX_cpd00064_e0' since it already exists.\n",
      "Ignoring reaction 'EX_cpd00244_e0' since it already exists.\n",
      "Ignoring reaction 'EX_cpd11578_e0' since it already exists.\n",
      "Ignoring reaction 'EX_cpd00100_e0' since it already exists.\n",
      "Ignoring reaction 'EX_cpd00009_e0' since it already exists.\n",
      "Ignoring reaction 'EX_cpd00060_e0' since it already exists.\n",
      "Ignoring reaction 'EX_cpd00034_e0' since it already exists.\n",
      "Ignoring reaction 'EX_cpd10516_e0' since it already exists.\n",
      "Ignoring reaction 'EX_cpd11579_e0' since it already exists.\n",
      "Ignoring reaction 'EX_cpd00210_e0' since it already exists.\n",
      "Ignoring reaction 'EX_cpd00637_e0' since it already exists.\n",
      "Ignoring reaction 'EX_cpd00035_e0' since it already exists.\n",
      "Ignoring reaction 'EX_cpd00117_e0' since it already exists.\n",
      "Ignoring reaction 'EX_cpd00254_e0' since it already exists.\n",
      "Ignoring reaction 'EX_cpd00205_e0' since it already exists.\n",
      "Ignoring reaction 'EX_cpd00138_e0' since it already exists.\n",
      "Ignoring reaction 'EX_cpd00305_e0' since it already exists.\n",
      "Ignoring reaction 'EX_cpd00159_e0' since it already exists.\n",
      "Ignoring reaction 'EX_cpd03048_e0' since it already exists.\n",
      "Ignoring reaction 'EX_cpd11596_e0' since it already exists.\n",
      "Ignoring reaction 'EX_cpd00048_e0' since it already exists.\n",
      "Ignoring reaction 'EX_cpd00030_e0' since it already exists.\n",
      "Ignoring reaction 'EX_cpd00149_e0' since it already exists.\n",
      "Ignoring reaction 'EX_cpd01914_e0' since it already exists.\n",
      "Ignoring reaction 'EX_cpd00099_e0' since it already exists.\n",
      "Ignoring reaction 'EX_cpd00531_e0' since it already exists.\n",
      "Ignoring reaction 'EX_cpd00395_e0' since it already exists.\n",
      "Ignoring reaction 'EX_cpd00027_e0' since it already exists.\n",
      "Ignoring reaction 'EX_cpd11575_e0' since it already exists.\n",
      "Ignoring reaction 'EX_cpd00226_e0' since it already exists.\n",
      "Ignoring reaction 'EX_cpd09878_e0' since it already exists.\n",
      "Ignoring reaction 'EX_cpd00007_e0' since it already exists.\n",
      "Ignoring reaction 'EX_cpd08023_e0' since it already exists.\n",
      "Ignoring reaction 'EX_cpd00011_e0' since it already exists.\n",
      "Ignoring reaction 'EX_cpd00001_b' since it already exists.\n",
      "Ignoring reaction 'EX_cpd11746_e0' since it already exists.\n",
      "Ignoring reaction 'EX_cpd11746_b' since it already exists.\n"
     ]
    },
    {
     "name": "stdout",
     "output_type": "stream",
     "text": [
      "1756\n"
     ]
    }
   ],
   "source": [
    "count=0\n",
    "for i in model2.reactions:\n",
    "    if(str(i.id)==\"EX_cpd11416_c0\"):\n",
    "        continue\n",
    "    reaction=model2.reactions.get_by_id(str(i.id))\n",
    "    reaction.reaction\n",
    "    count=count+1\n",
    "    model.add_reactions([reaction])\n",
    "        \n",
    "print(count)"
   ]
  },
  {
   "cell_type": "code",
   "execution_count": 21,
   "id": "9135f4a4",
   "metadata": {},
   "outputs": [
    {
     "name": "stderr",
     "output_type": "stream",
     "text": [
      "Ignoring reaction 'EX_cpd11416_b' since it already exists.\n",
      "Ignoring reaction 'EX_cpd00067_b' since it already exists.\n",
      "Ignoring reaction 'EX_cpd00129_b' since it already exists.\n",
      "Ignoring reaction 'EX_cpd00276_b' since it already exists.\n",
      "Ignoring reaction 'EX_cpd00001_b' since it already exists.\n",
      "Ignoring reaction 'EX_cpd00023_b' since it already exists.\n",
      "Ignoring reaction 'EX_cpd00367_b' since it already exists.\n",
      "Ignoring reaction 'EX_cpd00058_b' since it already exists.\n",
      "Ignoring reaction 'EX_cpd00184_b' since it already exists.\n",
      "Ignoring reaction 'EX_cpd00314_b' since it already exists.\n",
      "Ignoring reaction 'EX_cpd00222_b' since it already exists.\n",
      "Ignoring reaction 'EX_cpd00051_b' since it already exists.\n",
      "Ignoring reaction 'EX_cpd00064_b' since it already exists.\n",
      "Ignoring reaction 'EX_cpd00100_b' since it already exists.\n",
      "Ignoring reaction 'EX_cpd00009_b' since it already exists.\n",
      "Ignoring reaction 'EX_cpd00034_b' since it already exists.\n",
      "Ignoring reaction 'EX_cpd00249_b' since it already exists.\n",
      "Ignoring reaction 'EX_cpd00264_b' since it already exists.\n",
      "Ignoring reaction 'EX_cpd00644_b' since it already exists.\n",
      "Ignoring reaction 'EX_cpd00122_b' since it already exists.\n",
      "Ignoring reaction 'EX_cpd00277_b' since it already exists.\n",
      "Ignoring reaction 'EX_cpd00118_b' since it already exists.\n",
      "Ignoring reaction 'EX_cpd00254_b' since it already exists.\n",
      "Ignoring reaction 'EX_cpd00142_b' since it already exists.\n",
      "Ignoring reaction 'EX_cpd00065_b' since it already exists.\n",
      "Ignoring reaction 'EX_cpd10516_b' since it already exists.\n",
      "Ignoring reaction 'EX_cpd00149_b' since it already exists.\n",
      "Ignoring reaction 'EX_cpd00027_b' since it already exists.\n",
      "Ignoring reaction 'EX_cpd00794_b' since it already exists.\n",
      "Ignoring reaction 'EX_cpd00226_b' since it already exists.\n",
      "Ignoring reaction 'EX_cpd00048_b' since it already exists.\n",
      "Ignoring reaction 'EX_cpd00322_b' since it already exists.\n",
      "Ignoring reaction 'EX_cpd00007_b' since it already exists.\n",
      "Ignoring reaction 'EX_cpd00092_b' since it already exists.\n",
      "Ignoring reaction 'EX_cpd00039_b' since it already exists.\n",
      "Ignoring reaction 'EX_cpd00011_b' since it already exists.\n",
      "Ignoring reaction 'EX_cpd00030_b' since it already exists.\n",
      "Ignoring reaction 'EX_cpd00013_b' since it already exists.\n",
      "Ignoring reaction 'EX_cpd00205_b' since it already exists.\n",
      "Ignoring reaction 'EX_cpd00099_b' since it already exists.\n",
      "Ignoring reaction 'EX_cpd00063_b' since it already exists.\n",
      "Ignoring reaction 'EX_cpd00067_e0' since it already exists.\n",
      "Ignoring reaction 'EX_cpd00182_e0' since it already exists.\n",
      "Ignoring reaction 'EX_cpd00073_e0' since it already exists.\n",
      "Ignoring reaction 'EX_cpd11576_e0' since it already exists.\n",
      "Ignoring reaction 'EX_cpd04097_e0' since it already exists.\n",
      "Ignoring reaction 'EX_cpd11597_e0' since it already exists.\n",
      "Ignoring reaction 'EX_cpd11585_e0' since it already exists.\n",
      "Ignoring reaction 'EX_cpd00412_e0' since it already exists.\n",
      "Ignoring reaction 'EX_cpd11582_e0' since it already exists.\n",
      "Ignoring reaction 'EX_cpd11586_e0' since it already exists.\n",
      "Ignoring reaction 'EX_cpd01030_e0' since it already exists.\n",
      "Ignoring reaction 'EX_cpd00129_e0' since it already exists.\n",
      "Ignoring reaction 'EX_cpd00971_e0' since it already exists.\n",
      "Ignoring reaction 'EX_cpd01012_e0' since it already exists.\n",
      "Ignoring reaction 'EX_cpd00246_e0' since it already exists.\n",
      "Ignoring reaction 'EX_cpd00276_e0' since it already exists.\n",
      "Ignoring reaction 'EX_cpd00082_e0' since it already exists.\n",
      "Ignoring reaction 'EX_cpd00080_e0' since it already exists.\n",
      "Ignoring reaction 'EX_cpd00001_e0' since it already exists.\n",
      "Ignoring reaction 'EX_cpd00023_e0' since it already exists.\n",
      "Ignoring reaction 'EX_cpd15560_e0' since it already exists.\n",
      "Ignoring reaction 'EX_cpd15561_e0' since it already exists.\n",
      "Ignoring reaction 'EX_cpd00367_e0' since it already exists.\n",
      "Ignoring reaction 'EX_cpd00058_e0' since it already exists.\n",
      "Ignoring reaction 'EX_cpd00184_e0' since it already exists.\n",
      "Ignoring reaction 'EX_cpd00314_e0' since it already exists.\n",
      "Ignoring reaction 'EX_cpd01017_e0' since it already exists.\n",
      "Ignoring reaction 'EX_cpd00797_e0' since it already exists.\n",
      "Ignoring reaction 'EX_cpd00222_e0' since it already exists.\n",
      "Ignoring reaction 'EX_cpd00051_e0' since it already exists.\n",
      "Ignoring reaction 'EX_cpd00064_e0' since it already exists.\n",
      "Ignoring reaction 'EX_cpd11578_e0' since it already exists.\n",
      "Ignoring reaction 'EX_cpd00179_e0' since it already exists.\n",
      "Ignoring reaction 'EX_cpd00100_e0' since it already exists.\n",
      "Ignoring reaction 'EX_cpd11591_e0' since it already exists.\n",
      "Ignoring reaction 'EX_cpd00009_e0' since it already exists.\n",
      "Ignoring reaction 'EX_cpd00060_e0' since it already exists.\n",
      "Ignoring reaction 'EX_cpd00438_e0' since it already exists.\n",
      "Ignoring reaction 'EX_cpd00034_e0' since it already exists.\n",
      "Ignoring reaction 'EX_cpd00249_e0' since it already exists.\n",
      "Ignoring reaction 'EX_cpd11593_e0' since it already exists.\n",
      "Ignoring reaction 'EX_cpd00654_e0' since it already exists.\n",
      "Ignoring reaction 'EX_cpd00076_e0' since it already exists.\n",
      "Ignoring reaction 'EX_cpd03198_e0' since it already exists.\n",
      "Ignoring reaction 'EX_cpd11579_e0' since it already exists.\n",
      "Ignoring reaction 'EX_cpd01171_e0' since it already exists.\n",
      "Ignoring reaction 'EX_cpd00210_e0' since it already exists.\n",
      "Ignoring reaction 'EX_cpd00176_e0' since it already exists.\n",
      "Ignoring reaction 'EX_cpd15605_e0' since it already exists.\n",
      "Ignoring reaction 'EX_cpd00264_e0' since it already exists.\n",
      "Ignoring reaction 'EX_cpd00644_e0' since it already exists.\n",
      "Ignoring reaction 'EX_cpd00154_e0' since it already exists.\n",
      "Ignoring reaction 'EX_cpd03724_e0' since it already exists.\n",
      "Ignoring reaction 'EX_cpd00637_e0' since it already exists.\n",
      "Ignoring reaction 'EX_cpd00122_e0' since it already exists.\n",
      "Ignoring reaction 'EX_cpd15603_e0' since it already exists.\n",
      "Ignoring reaction 'EX_cpd03696_e0' since it already exists.\n",
      "Ignoring reaction 'EX_cpd00277_e0' since it already exists.\n",
      "Ignoring reaction 'EX_cpd00118_e0' since it already exists.\n",
      "Ignoring reaction 'EX_cpd00309_e0' since it already exists.\n",
      "Ignoring reaction 'EX_cpd11580_e0' since it already exists.\n",
      "Ignoring reaction 'EX_cpd01092_e0' since it already exists.\n",
      "Ignoring reaction 'EX_cpd03279_e0' since it already exists.\n",
      "Ignoring reaction 'EX_cpd00588_e0' since it already exists.\n",
      "Ignoring reaction 'EX_cpd00108_e0' since it already exists.\n",
      "Ignoring reaction 'EX_cpd00307_e0' since it already exists.\n",
      "Ignoring reaction 'EX_cpd00653_e0' since it already exists.\n",
      "Ignoring reaction 'EX_cpd00254_e0' since it already exists.\n",
      "Ignoring reaction 'EX_cpd00138_e0' since it already exists.\n",
      "Ignoring reaction 'EX_cpd00305_e0' since it already exists.\n",
      "Ignoring reaction 'EX_cpd00142_e0' since it already exists.\n",
      "Ignoring reaction 'EX_cpd00211_e0' since it already exists.\n",
      "Ignoring reaction 'EX_cpd03048_e0' since it already exists.\n",
      "Ignoring reaction 'EX_cpd11596_e0' since it already exists.\n",
      "Ignoring reaction 'EX_cpd00540_e0' since it already exists.\n",
      "Ignoring reaction 'EX_cpd00065_e0' since it already exists.\n",
      "Ignoring reaction 'EX_cpd15606_e0' since it already exists.\n",
      "Ignoring reaction 'EX_cpd10516_e0' since it already exists.\n",
      "Ignoring reaction 'EX_cpd00149_e0' since it already exists.\n",
      "Ignoring reaction 'EX_cpd01914_e0' since it already exists.\n",
      "Ignoring reaction 'EX_cpd00531_e0' since it already exists.\n",
      "Ignoring reaction 'EX_cpd11583_e0' since it already exists.\n",
      "Ignoring reaction 'EX_cpd00395_e0' since it already exists.\n",
      "Ignoring reaction 'EX_cpd11589_e0' since it already exists.\n",
      "Ignoring reaction 'EX_cpd00027_e0' since it already exists.\n",
      "Ignoring reaction 'EX_cpd11575_e0' since it already exists.\n",
      "Ignoring reaction 'EX_cpd00794_e0' since it already exists.\n",
      "Ignoring reaction 'EX_cpd00226_e0' since it already exists.\n",
      "Ignoring reaction 'EX_cpd09878_e0' since it already exists.\n",
      "Ignoring reaction 'EX_cpd11588_e0' since it already exists.\n",
      "Ignoring reaction 'EX_cpd00048_e0' since it already exists.\n",
      "Ignoring reaction 'EX_cpd15604_e0' since it already exists.\n",
      "Ignoring reaction 'EX_cpd00322_e0' since it already exists.\n",
      "Ignoring reaction 'EX_cpd00104_e0' since it already exists.\n",
      "Ignoring reaction 'EX_cpd00007_e0' since it already exists.\n",
      "Ignoring reaction 'EX_cpd00098_e0' since it already exists.\n",
      "Ignoring reaction 'EX_cpd11592_e0' since it already exists.\n",
      "Ignoring reaction 'EX_cpd08023_e0' since it already exists.\n",
      "Ignoring reaction 'EX_cpd11587_e0' since it already exists.\n",
      "Ignoring reaction 'EX_cpd00092_e0' since it already exists.\n",
      "Ignoring reaction 'EX_cpd11590_e0' since it already exists.\n",
      "Ignoring reaction 'EX_cpd11581_e0' since it already exists.\n",
      "Ignoring reaction 'EX_cpd11584_e0' since it already exists.\n",
      "Ignoring reaction 'EX_cpd00158_e0' since it already exists.\n",
      "Ignoring reaction 'EX_cpd00039_e0' since it already exists.\n",
      "Ignoring reaction 'EX_cpd00011_e0' since it already exists.\n",
      "Ignoring reaction 'EX_cpd00030_e0' since it already exists.\n",
      "Ignoring reaction 'EX_cpd00013_e0' since it already exists.\n",
      "Ignoring reaction 'EX_cpd00205_e0' since it already exists.\n",
      "Ignoring reaction 'EX_cpd00099_e0' since it already exists.\n",
      "Ignoring reaction 'EX_cpd00063_e0' since it already exists.\n",
      "Ignoring reaction 'EX_cpd11746_e0' since it already exists.\n",
      "Ignoring reaction 'EX_cpd11746_b' since it already exists.\n"
     ]
    },
    {
     "name": "stdout",
     "output_type": "stream",
     "text": [
      "1558\n"
     ]
    }
   ],
   "source": [
    "count=0\n",
    "for i in model3.reactions:\n",
    "    if(str(i.id)==\"EX_cpd11416_c0\"):\n",
    "        continue\n",
    "    reaction=model3.reactions.get_by_id(str(i.id))\n",
    "    reaction.reaction\n",
    "    count=count+1\n",
    "    model.add_reactions([reaction])\n",
    "        \n",
    "print(count)"
   ]
  },
  {
   "cell_type": "code",
   "execution_count": 22,
   "id": "98728667",
   "metadata": {},
   "outputs": [
    {
     "name": "stdout",
     "output_type": "stream",
     "text": [
      "4205\n",
      "4291\n",
      "2805\n"
     ]
    }
   ],
   "source": [
    "print(len(model.reactions))\n",
    "print(len(model.metabolites))\n",
    "print(len(model.genes))"
   ]
  },
  {
   "cell_type": "code",
   "execution_count": 23,
   "id": "2c2380d2",
   "metadata": {},
   "outputs": [],
   "source": [
    "from cobra import Metabolite\n",
    "cpd11416_c0 = Metabolite(\n",
    "    'cpd11416_c0',\n",
    "    name='Complete_Biomass',\n",
    "    compartment='c0')"
   ]
  },
  {
   "cell_type": "code",
   "execution_count": 29,
   "id": "c7152897",
   "metadata": {},
   "outputs": [],
   "source": [
    "from cobra import Metabolite\n",
    "cpd11416_b = Metabolite(\n",
    "    'cpd11416_b',\n",
    "    name='Complete_Biomass',\n",
    "    compartment='e0'\n",
    "    )"
   ]
  },
  {
   "cell_type": "code",
   "execution_count": 31,
   "id": "9e2e76d0",
   "metadata": {},
   "outputs": [
    {
     "name": "stdout",
     "output_type": "stream",
     "text": [
      "1558\n"
     ]
    }
   ],
   "source": [
    "reaction = Reaction('Bio1')\n",
    "reaction.name = ('Community_biomass')\n",
    "reaction.lower_bound = 0\n",
    "reaction.upper_bound = 1000\n",
    "\n",
    "reaction.add_metabolites({model1.metabolites.get_by_id(\"cpd11416_c0ml\"): -0.465,\n",
    "                          model2.metabolites.get_by_id(\"cpd11416_c0ksp\"): -0.364,\n",
    "                          model3.metabolites.get_by_id(\"cpd11416_c0osp\"): -0.171,\n",
    "                          cpd11416_c0: 1\n",
    "                         })\n",
    "\n",
    "        \n",
    "reaction.reaction\n",
    "model.add_reactions([reaction])\n",
    "print(count)"
   ]
  },
  {
   "cell_type": "code",
   "execution_count": 34,
   "id": "567472dd",
   "metadata": {},
   "outputs": [],
   "source": [
    "reaction = Reaction('EX_cpd11416_c0')\n",
    "reaction.name = ('EX_cpd11416_c0')\n",
    "reaction.lower_bound = 0\n",
    "reaction.upper_bound = 1000\n",
    "\n",
    "reaction.add_metabolites({\n",
    "                          model.metabolites.get_by_id(\"cpd11416_c0\"): -1,\n",
    "                          cpd11416_b: 1\n",
    "                        })\n",
    "\n",
    "        \n",
    "reaction.reaction\n",
    "model.add_reactions([reaction])"
   ]
  },
  {
   "cell_type": "code",
   "execution_count": 35,
   "id": "a8cc66a2",
   "metadata": {},
   "outputs": [
    {
     "name": "stdout",
     "output_type": "stream",
     "text": [
      "4207\n",
      "4292\n",
      "2805\n"
     ]
    }
   ],
   "source": [
    "print(len(model.reactions))\n",
    "print(len(model.metabolites))\n",
    "print(len(model.genes))"
   ]
  },
  {
   "cell_type": "code",
   "execution_count": 36,
   "id": "588f7729",
   "metadata": {},
   "outputs": [],
   "source": [
    "model.objective = 'Bio1'"
   ]
  },
  {
   "cell_type": "code",
   "execution_count": 49,
   "id": "7c3127e6",
   "metadata": {},
   "outputs": [],
   "source": [
    "cobra.io.write_sbml_model(model,'GCM/GCM_P1_P2_P4.xml')"
   ]
  },
  {
   "cell_type": "code",
   "execution_count": null,
   "id": "cf22b2f1",
   "metadata": {},
   "outputs": [],
   "source": []
  }
 ],
 "metadata": {
  "kernelspec": {
   "display_name": "Python 3 (ipykernel)",
   "language": "python",
   "name": "python3"
  },
  "language_info": {
   "codemirror_mode": {
    "name": "ipython",
    "version": 3
   },
   "file_extension": ".py",
   "mimetype": "text/x-python",
   "name": "python",
   "nbconvert_exporter": "python",
   "pygments_lexer": "ipython3",
   "version": "3.12.4"
  }
 },
 "nbformat": 4,
 "nbformat_minor": 5
}
