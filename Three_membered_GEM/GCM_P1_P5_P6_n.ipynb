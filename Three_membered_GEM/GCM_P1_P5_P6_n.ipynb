{
 "cells": [
  {
   "cell_type": "code",
   "execution_count": 1,
   "id": "aae9df3e",
   "metadata": {},
   "outputs": [],
   "source": [
    "import cobra\n",
    "import sys\n",
    "import os"
   ]
  },
  {
   "cell_type": "code",
   "execution_count": 2,
   "id": "cf455297",
   "metadata": {},
   "outputs": [
    {
     "name": "stdout",
     "output_type": "stream",
     "text": [
      "Set parameter Username\n",
      "Academic license - for non-commercial use only - expires 2024-08-29\n"
     ]
    }
   ],
   "source": [
    "model1 = cobra.io.read_sbml_model(r'Final_GEM/bsp_p5.xml')\n",
    "model2 = cobra.io.read_sbml_model(r'Final_GEM/ml_p1.xml')\n",
    "model3 = cobra.io.read_sbml_model(r'Final_GEM/nc_p6.xml')"
   ]
  },
  {
   "cell_type": "code",
   "execution_count": 3,
   "id": "955b4805",
   "metadata": {},
   "outputs": [
    {
     "name": "stdout",
     "output_type": "stream",
     "text": [
      "1489\n",
      "1500\n",
      "1562\n"
     ]
    },
    {
     "data": {
      "text/plain": [
       "0.19834681500584866"
      ]
     },
     "execution_count": 3,
     "metadata": {},
     "output_type": "execute_result"
    }
   ],
   "source": [
    "print(len(model1.reactions))\n",
    "print(len(model1.metabolites))\n",
    "print(len(model1.genes))\n",
    "\n",
    "#optimising the value#\n",
    "solution=model1.optimize()\n",
    "solution.objective_value"
   ]
  },
  {
   "cell_type": "code",
   "execution_count": 4,
   "id": "b9a68991",
   "metadata": {},
   "outputs": [
    {
     "name": "stdout",
     "output_type": "stream",
     "text": [
      "1120\n",
      "1203\n",
      "1172\n"
     ]
    },
    {
     "data": {
      "text/plain": [
       "0.18860556600162962"
      ]
     },
     "execution_count": 4,
     "metadata": {},
     "output_type": "execute_result"
    }
   ],
   "source": [
    "print(len(model2.reactions))\n",
    "print(len(model2.metabolites))\n",
    "print(len(model2.genes))\n",
    "\n",
    "#optimising the value#\n",
    "solution=model2.optimize()\n",
    "solution.objective_value"
   ]
  },
  {
   "cell_type": "code",
   "execution_count": 5,
   "id": "8734c002",
   "metadata": {},
   "outputs": [
    {
     "name": "stdout",
     "output_type": "stream",
     "text": [
      "1577\n",
      "1563\n",
      "1942\n"
     ]
    },
    {
     "data": {
      "text/plain": [
       "0.11270800513712889"
      ]
     },
     "execution_count": 5,
     "metadata": {},
     "output_type": "execute_result"
    }
   ],
   "source": [
    "print(len(model3.reactions))\n",
    "print(len(model3.metabolites))\n",
    "print(len(model3.genes))\n",
    "\n",
    "#optimising the value#\n",
    "solution=model3.optimize()\n",
    "solution.objective_value"
   ]
  },
  {
   "cell_type": "code",
   "execution_count": 6,
   "id": "089c0429",
   "metadata": {},
   "outputs": [],
   "source": [
    "for i in model1.metabolites:\n",
    "    if(str(i)[-2]==\"c\"):\n",
    "        j=str(i)+\"bsp\"\n",
    "        i.id=j\n",
    "        i.compartment=\"c0bsp\""
   ]
  },
  {
   "cell_type": "code",
   "execution_count": 7,
   "id": "05542ee3",
   "metadata": {},
   "outputs": [],
   "source": [
    "for i in model2.metabolites:\n",
    "    if(str(i)[-2]==\"c\"):\n",
    "        j=str(i)+\"ml\"\n",
    "        i.id=j\n",
    "        i.compartment=\"c0ml\""
   ]
  },
  {
   "cell_type": "code",
   "execution_count": 8,
   "id": "e6152a44",
   "metadata": {},
   "outputs": [],
   "source": [
    "for i in model3.metabolites:\n",
    "    if(str(i)[-2]==\"c\"):\n",
    "        j=str(i)+\"nc\"\n",
    "        i.id=j\n",
    "        i.compartment=\"c0nc\""
   ]
  },
  {
   "cell_type": "code",
   "execution_count": 9,
   "id": "ab7e0e50",
   "metadata": {},
   "outputs": [
    {
     "name": "stdout",
     "output_type": "stream",
     "text": [
      "1312\n"
     ]
    }
   ],
   "source": [
    "count=0\n",
    "for i in model1.reactions:\n",
    "    if(str(i.id)[0]==\"r\"):\n",
    "        j=str(i.id)+\"bsp\"\n",
    "        i.id=j\n",
    "        count=count+1\n",
    "print(count)"
   ]
  },
  {
   "cell_type": "code",
   "execution_count": 10,
   "id": "5eec83cd",
   "metadata": {},
   "outputs": [
    {
     "name": "stdout",
     "output_type": "stream",
     "text": [
      "1031\n"
     ]
    }
   ],
   "source": [
    "count=0\n",
    "for i in model2.reactions:\n",
    "    if(str(i.id)[0]==\"r\"):\n",
    "        j=str(i.id)+\"ml\"\n",
    "        i.id=j\n",
    "        count=count+1\n",
    "print(count)"
   ]
  },
  {
   "cell_type": "code",
   "execution_count": 11,
   "id": "7d332d11",
   "metadata": {},
   "outputs": [
    {
     "name": "stdout",
     "output_type": "stream",
     "text": [
      "1366\n"
     ]
    }
   ],
   "source": [
    "count=0\n",
    "for i in model3.reactions:\n",
    "    if(str(i.id)[0]==\"r\"):\n",
    "        j=str(i.id)+\"nc\"\n",
    "        i.id=j\n",
    "        count=count+1\n",
    "print(count)"
   ]
  },
  {
   "cell_type": "code",
   "execution_count": 12,
   "id": "3bf1d957",
   "metadata": {},
   "outputs": [
    {
     "name": "stdout",
     "output_type": "stream",
     "text": [
      "1\n"
     ]
    }
   ],
   "source": [
    "count=0\n",
    "for i in model1.reactions:\n",
    "    if(str(i.id)==\"bio1\"):\n",
    "        j=str(i.id)+\"bsp\"\n",
    "        i.id=j\n",
    "        count=count+1\n",
    "print(count)"
   ]
  },
  {
   "cell_type": "code",
   "execution_count": 13,
   "id": "7d53f1a5",
   "metadata": {},
   "outputs": [
    {
     "name": "stdout",
     "output_type": "stream",
     "text": [
      "1\n"
     ]
    }
   ],
   "source": [
    "count=0\n",
    "for i in model2.reactions:\n",
    "    if(str(i.id)==\"bio1\"):\n",
    "        j=str(i.id)+\"ml\"\n",
    "        i.id=j\n",
    "        count=count+1\n",
    "print(count)"
   ]
  },
  {
   "cell_type": "code",
   "execution_count": 14,
   "id": "03818fd3",
   "metadata": {},
   "outputs": [
    {
     "name": "stdout",
     "output_type": "stream",
     "text": [
      "1\n"
     ]
    }
   ],
   "source": [
    "count=0\n",
    "for i in model3.reactions:\n",
    "    if(str(i.id)==\"bio1\"):\n",
    "        j=str(i.id)+\"nc\"\n",
    "        i.id=j\n",
    "        count=count+1\n",
    "print(count)"
   ]
  },
  {
   "cell_type": "code",
   "execution_count": 15,
   "id": "f1ef6029",
   "metadata": {},
   "outputs": [
    {
     "name": "stdout",
     "output_type": "stream",
     "text": [
      "1\n"
     ]
    }
   ],
   "source": [
    "count=0\n",
    "for i in model1.reactions:\n",
    "    if(str(i.id)==\"EX_cpd11416_c0\"):continue\n",
    "    if(str(i.id)[0]==\"E\" and str(i.id)[-2]==\"c\"):\n",
    "        j=str(i.id)+\"bsp\"\n",
    "        i.id=j\n",
    "        count=count+1\n",
    "print(count)"
   ]
  },
  {
   "cell_type": "code",
   "execution_count": 16,
   "id": "dbefc7db",
   "metadata": {},
   "outputs": [
    {
     "name": "stdout",
     "output_type": "stream",
     "text": [
      "0\n"
     ]
    }
   ],
   "source": [
    "count=0\n",
    "for i in model2.reactions:\n",
    "    if(str(i.id)==\"EX_cpd11416_c0\"):continue\n",
    "    if(str(i.id)[0]==\"E\" and str(i.id)[-2]==\"c\"):\n",
    "        j=str(i.id)+\"ml\"\n",
    "        i.id=j\n",
    "        count=count+1\n",
    "print(count)"
   ]
  },
  {
   "cell_type": "code",
   "execution_count": 17,
   "id": "96258653",
   "metadata": {},
   "outputs": [
    {
     "name": "stdout",
     "output_type": "stream",
     "text": [
      "2\n"
     ]
    }
   ],
   "source": [
    "count=0\n",
    "for i in model3.reactions:\n",
    "    if(str(i.id)==\"EX_cpd11416_c0\"):continue\n",
    "    if(str(i.id)[0]==\"E\" and str(i.id)[-2]==\"c\"):\n",
    "        j=str(i.id)+\"nc\"\n",
    "        i.id=j\n",
    "        count=count+1\n",
    "print(count)"
   ]
  },
  {
   "cell_type": "code",
   "execution_count": 18,
   "id": "7bd1843a",
   "metadata": {},
   "outputs": [
    {
     "name": "stdout",
     "output_type": "stream",
     "text": [
      "1488\n"
     ]
    }
   ],
   "source": [
    "from cobra import Model, Reaction, Metabolite\n",
    "model = Model('GCM_A6')\n",
    "count=0\n",
    "for i in model1.reactions:\n",
    "    if(str(i.id)==\"EX_cpd11416_c0\"):\n",
    "        continue\n",
    "    reaction=model1.reactions.get_by_id(str(i.id))\n",
    "    reaction.reaction\n",
    "    count=count+1\n",
    "    model.add_reactions([reaction])\n",
    "        \n",
    "print(count)"
   ]
  },
  {
   "cell_type": "code",
   "execution_count": 19,
   "id": "a2f7bc52",
   "metadata": {},
   "outputs": [
    {
     "name": "stderr",
     "output_type": "stream",
     "text": [
      "Ignoring reaction 'EX_cpd11416_b' since it already exists.\n",
      "Ignoring reaction 'EX_cpd00067_b' since it already exists.\n",
      "Ignoring reaction 'EX_cpd00001_b' since it already exists.\n",
      "Ignoring reaction 'EX_cpd00058_b' since it already exists.\n",
      "Ignoring reaction 'EX_cpd00013_b' since it already exists.\n",
      "Ignoring reaction 'EX_cpd00051_b' since it already exists.\n",
      "Ignoring reaction 'EX_cpd00064_b' since it already exists.\n",
      "Ignoring reaction 'EX_cpd00100_b' since it already exists.\n",
      "Ignoring reaction 'EX_cpd00060_b' since it already exists.\n",
      "Ignoring reaction 'EX_cpd00034_b' since it already exists.\n",
      "Ignoring reaction 'EX_cpd00027_b' since it already exists.\n",
      "Ignoring reaction 'EX_cpd00035_b' since it already exists.\n",
      "Ignoring reaction 'EX_cpd00117_b' since it already exists.\n",
      "Ignoring reaction 'EX_cpd00254_b' since it already exists.\n",
      "Ignoring reaction 'EX_cpd00039_b' since it already exists.\n",
      "Ignoring reaction 'EX_cpd00009_b' since it already exists.\n",
      "Ignoring reaction 'EX_cpd10516_b' since it already exists.\n",
      "Ignoring reaction 'EX_cpd00149_b' since it already exists.\n",
      "Ignoring reaction 'EX_cpd00226_b' since it already exists.\n",
      "Ignoring reaction 'EX_cpd00048_b' since it already exists.\n",
      "Ignoring reaction 'EX_cpd00007_b' since it already exists.\n",
      "Ignoring reaction 'EX_cpd00011_b' since it already exists.\n",
      "Ignoring reaction 'EX_cpd00099_b' since it already exists.\n",
      "Ignoring reaction 'EX_cpd00063_b' since it already exists.\n",
      "Ignoring reaction 'EX_cpd00030_b' since it already exists.\n",
      "Ignoring reaction 'EX_cpd00205_b' since it already exists.\n",
      "Ignoring reaction 'EX_cpd00067_e0' since it already exists.\n",
      "Ignoring reaction 'EX_cpd11576_e0' since it already exists.\n",
      "Ignoring reaction 'EX_cpd04097_e0' since it already exists.\n",
      "Ignoring reaction 'EX_cpd00012_e0' since it already exists.\n",
      "Ignoring reaction 'EX_cpd01012_e0' since it already exists.\n",
      "Ignoring reaction 'EX_cpd00001_e0' since it already exists.\n",
      "Ignoring reaction 'EX_cpd00023_e0' since it already exists.\n",
      "Ignoring reaction 'EX_cpd00971_e0' since it already exists.\n",
      "Ignoring reaction 'EX_cpd00058_e0' since it already exists.\n",
      "Ignoring reaction 'EX_cpd00797_e0' since it already exists.\n",
      "Ignoring reaction 'EX_cpd00013_e0' since it already exists.\n",
      "Ignoring reaction 'EX_cpd00051_e0' since it already exists.\n",
      "Ignoring reaction 'EX_cpd00064_e0' since it already exists.\n",
      "Ignoring reaction 'EX_cpd00100_e0' since it already exists.\n",
      "Ignoring reaction 'EX_cpd00060_e0' since it already exists.\n",
      "Ignoring reaction 'EX_cpd00034_e0' since it already exists.\n",
      "Ignoring reaction 'EX_cpd00027_e0' since it already exists.\n",
      "Ignoring reaction 'EX_cpd00637_e0' since it already exists.\n",
      "Ignoring reaction 'EX_cpd00035_e0' since it already exists.\n",
      "Ignoring reaction 'EX_cpd00117_e0' since it already exists.\n",
      "Ignoring reaction 'EX_cpd00254_e0' since it already exists.\n",
      "Ignoring reaction 'EX_cpd00039_e0' since it already exists.\n",
      "Ignoring reaction 'EX_cpd00009_e0' since it already exists.\n",
      "Ignoring reaction 'EX_cpd10516_e0' since it already exists.\n",
      "Ignoring reaction 'EX_cpd00149_e0' since it already exists.\n",
      "Ignoring reaction 'EX_cpd01914_e0' since it already exists.\n",
      "Ignoring reaction 'EX_cpd00531_e0' since it already exists.\n",
      "Ignoring reaction 'EX_cpd00138_e0' since it already exists.\n",
      "Ignoring reaction 'EX_cpd00226_e0' since it already exists.\n",
      "Ignoring reaction 'EX_cpd00048_e0' since it already exists.\n",
      "Ignoring reaction 'EX_cpd00104_e0' since it already exists.\n",
      "Ignoring reaction 'EX_cpd00007_e0' since it already exists.\n",
      "Ignoring reaction 'EX_cpd00011_e0' since it already exists.\n",
      "Ignoring reaction 'EX_cpd00099_e0' since it already exists.\n",
      "Ignoring reaction 'EX_cpd00063_e0' since it already exists.\n",
      "Ignoring reaction 'EX_cpd00030_e0' since it already exists.\n",
      "Ignoring reaction 'EX_cpd00205_e0' since it already exists.\n",
      "Ignoring reaction 'EX_cpd11746_e0' since it already exists.\n",
      "Ignoring reaction 'EX_cpd11746_b' since it already exists.\n"
     ]
    },
    {
     "name": "stdout",
     "output_type": "stream",
     "text": [
      "1119\n"
     ]
    }
   ],
   "source": [
    "count=0\n",
    "for i in model2.reactions:\n",
    "    if(str(i.id)==\"EX_cpd11416_c0\"):\n",
    "        continue\n",
    "    reaction=model2.reactions.get_by_id(str(i.id))\n",
    "    reaction.reaction\n",
    "    count=count+1\n",
    "    model.add_reactions([reaction])\n",
    "        \n",
    "print(count)"
   ]
  },
  {
   "cell_type": "code",
   "execution_count": 20,
   "id": "2b270bf9",
   "metadata": {},
   "outputs": [
    {
     "name": "stderr",
     "output_type": "stream",
     "text": [
      "Ignoring reaction 'EX_cpd11416_b' since it already exists.\n",
      "Ignoring reaction 'EX_cpd00067_b' since it already exists.\n",
      "Ignoring reaction 'EX_cpd11576_b' since it already exists.\n",
      "Ignoring reaction 'EX_cpd04097_b' since it already exists.\n",
      "Ignoring reaction 'EX_cpd11585_b' since it already exists.\n",
      "Ignoring reaction 'EX_cpd11582_b' since it already exists.\n",
      "Ignoring reaction 'EX_cpd00012_b' since it already exists.\n",
      "Ignoring reaction 'EX_cpd11586_b' since it already exists.\n",
      "Ignoring reaction 'EX_cpd01030_b' since it already exists.\n",
      "Ignoring reaction 'EX_cpd01012_b' since it already exists.\n",
      "Ignoring reaction 'EX_cpd00635_b' since it already exists.\n",
      "Ignoring reaction 'EX_cpd00276_b' since it already exists.\n",
      "Ignoring reaction 'EX_cpd00082_b' since it already exists.\n",
      "Ignoring reaction 'EX_cpd00001_b' since it already exists.\n",
      "Ignoring reaction 'EX_cpd00058_b' since it already exists.\n",
      "Ignoring reaction 'EX_cpd00314_b' since it already exists.\n",
      "Ignoring reaction 'EX_cpd01017_b' since it already exists.\n",
      "Ignoring reaction 'EX_cpd00013_b' since it already exists.\n",
      "Ignoring reaction 'EX_cpd00051_b' since it already exists.\n",
      "Ignoring reaction 'EX_cpd00064_b' since it already exists.\n",
      "Ignoring reaction 'EX_cpd00179_b' since it already exists.\n",
      "Ignoring reaction 'EX_cpd00100_b' since it already exists.\n",
      "Ignoring reaction 'EX_cpd11591_b' since it already exists.\n",
      "Ignoring reaction 'EX_cpd00060_b' since it already exists.\n",
      "Ignoring reaction 'EX_cpd11593_b' since it already exists.\n",
      "Ignoring reaction 'EX_cpd00076_b' since it already exists.\n",
      "Ignoring reaction 'EX_cpd01171_b' since it already exists.\n",
      "Ignoring reaction 'EX_cpd15605_b' since it already exists.\n",
      "Ignoring reaction 'EX_cpd00264_b' since it already exists.\n",
      "Ignoring reaction 'EX_cpd00637_b' since it already exists.\n",
      "Ignoring reaction 'EX_cpd00122_b' since it already exists.\n",
      "Ignoring reaction 'EX_cpd00035_b' since it already exists.\n",
      "Ignoring reaction 'EX_cpd15603_b' since it already exists.\n",
      "Ignoring reaction 'EX_cpd03696_b' since it already exists.\n",
      "Ignoring reaction 'EX_cpd00118_b' since it already exists.\n",
      "Ignoring reaction 'EX_cpd00309_b' since it already exists.\n",
      "Ignoring reaction 'EX_cpd11580_b' since it already exists.\n",
      "Ignoring reaction 'EX_cpd00220_b' since it already exists.\n",
      "Ignoring reaction 'EX_cpd00588_b' since it already exists.\n",
      "Ignoring reaction 'EX_cpd00423_b' since it already exists.\n",
      "Ignoring reaction 'EX_cpd00117_b' since it already exists.\n",
      "Ignoring reaction 'EX_cpd00254_b' since it already exists.\n",
      "Ignoring reaction 'EX_cpd00138_b' since it already exists.\n",
      "Ignoring reaction 'EX_cpd00159_b' since it already exists.\n",
      "Ignoring reaction 'EX_cpd00009_b' since it already exists.\n",
      "Ignoring reaction 'EX_cpd15606_b' since it already exists.\n",
      "Ignoring reaction 'EX_cpd10516_b' since it already exists.\n",
      "Ignoring reaction 'EX_cpd00971_b' since it already exists.\n",
      "Ignoring reaction 'EX_cpd00030_b' since it already exists.\n",
      "Ignoring reaction 'EX_cpd00149_b' since it already exists.\n",
      "Ignoring reaction 'EX_cpd01914_b' since it already exists.\n",
      "Ignoring reaction 'EX_cpd00531_b' since it already exists.\n",
      "Ignoring reaction 'EX_cpd11583_b' since it already exists.\n",
      "Ignoring reaction 'EX_cpd11589_b' since it already exists.\n",
      "Ignoring reaction 'EX_cpd00027_b' since it already exists.\n",
      "Ignoring reaction 'EX_cpd00794_b' since it already exists.\n",
      "Ignoring reaction 'EX_cpd00226_b' since it already exists.\n",
      "Ignoring reaction 'EX_cpd11588_b' since it already exists.\n",
      "Ignoring reaction 'EX_cpd00048_b' since it already exists.\n",
      "Ignoring reaction 'EX_cpd15604_b' since it already exists.\n",
      "Ignoring reaction 'EX_cpd00104_b' since it already exists.\n",
      "Ignoring reaction 'EX_cpd00007_b' since it already exists.\n",
      "Ignoring reaction 'EX_cpd03424_b' since it already exists.\n",
      "Ignoring reaction 'EX_cpd11592_b' since it already exists.\n",
      "Ignoring reaction 'EX_cpd11587_b' since it already exists.\n",
      "Ignoring reaction 'EX_cpd00092_b' since it already exists.\n",
      "Ignoring reaction 'EX_cpd11590_b' since it already exists.\n",
      "Ignoring reaction 'EX_cpd11581_b' since it already exists.\n",
      "Ignoring reaction 'EX_cpd00205_b' since it already exists.\n",
      "Ignoring reaction 'EX_cpd11584_b' since it already exists.\n",
      "Ignoring reaction 'EX_cpd00158_b' since it already exists.\n",
      "Ignoring reaction 'EX_cpd00039_b' since it already exists.\n",
      "Ignoring reaction 'EX_cpd00011_b' since it already exists.\n",
      "Ignoring reaction 'EX_cpd00063_b' since it already exists.\n",
      "Ignoring reaction 'EX_cpd00034_b' since it already exists.\n",
      "Ignoring reaction 'EX_cpd00099_b' since it already exists.\n",
      "Ignoring reaction 'EX_cpd00067_e0' since it already exists.\n",
      "Ignoring reaction 'EX_cpd11576_e0' since it already exists.\n",
      "Ignoring reaction 'EX_cpd04097_e0' since it already exists.\n",
      "Ignoring reaction 'EX_cpd11597_e0' since it already exists.\n",
      "Ignoring reaction 'EX_cpd11585_e0' since it already exists.\n",
      "Ignoring reaction 'EX_cpd11582_e0' since it already exists.\n",
      "Ignoring reaction 'EX_cpd00012_e0' since it already exists.\n",
      "Ignoring reaction 'EX_cpd11586_e0' since it already exists.\n",
      "Ignoring reaction 'EX_cpd01030_e0' since it already exists.\n",
      "Ignoring reaction 'EX_cpd01012_e0' since it already exists.\n",
      "Ignoring reaction 'EX_cpd00635_e0' since it already exists.\n",
      "Ignoring reaction 'EX_cpd00276_e0' since it already exists.\n",
      "Ignoring reaction 'EX_cpd00082_e0' since it already exists.\n",
      "Ignoring reaction 'EX_cpd00001_e0' since it already exists.\n",
      "Ignoring reaction 'EX_cpd00058_e0' since it already exists.\n",
      "Ignoring reaction 'EX_cpd00314_e0' since it already exists.\n",
      "Ignoring reaction 'EX_cpd01017_e0' since it already exists.\n",
      "Ignoring reaction 'EX_cpd00013_e0' since it already exists.\n",
      "Ignoring reaction 'EX_cpd00051_e0' since it already exists.\n",
      "Ignoring reaction 'EX_cpd00064_e0' since it already exists.\n",
      "Ignoring reaction 'EX_cpd00179_e0' since it already exists.\n",
      "Ignoring reaction 'EX_cpd00100_e0' since it already exists.\n",
      "Ignoring reaction 'EX_cpd11591_e0' since it already exists.\n",
      "Ignoring reaction 'EX_cpd00060_e0' since it already exists.\n",
      "Ignoring reaction 'EX_cpd11593_e0' since it already exists.\n",
      "Ignoring reaction 'EX_cpd00076_e0' since it already exists.\n",
      "Ignoring reaction 'EX_cpd01171_e0' since it already exists.\n",
      "Ignoring reaction 'EX_cpd15605_e0' since it already exists.\n",
      "Ignoring reaction 'EX_cpd00264_e0' since it already exists.\n",
      "Ignoring reaction 'EX_cpd00637_e0' since it already exists.\n",
      "Ignoring reaction 'EX_cpd00122_e0' since it already exists.\n",
      "Ignoring reaction 'EX_cpd00035_e0' since it already exists.\n",
      "Ignoring reaction 'EX_cpd15603_e0' since it already exists.\n",
      "Ignoring reaction 'EX_cpd03696_e0' since it already exists.\n",
      "Ignoring reaction 'EX_cpd00118_e0' since it already exists.\n",
      "Ignoring reaction 'EX_cpd00309_e0' since it already exists.\n",
      "Ignoring reaction 'EX_cpd11580_e0' since it already exists.\n",
      "Ignoring reaction 'EX_cpd00220_e0' since it already exists.\n",
      "Ignoring reaction 'EX_cpd00588_e0' since it already exists.\n",
      "Ignoring reaction 'EX_cpd00423_e0' since it already exists.\n",
      "Ignoring reaction 'EX_cpd00117_e0' since it already exists.\n",
      "Ignoring reaction 'EX_cpd00254_e0' since it already exists.\n",
      "Ignoring reaction 'EX_cpd00138_e0' since it already exists.\n",
      "Ignoring reaction 'EX_cpd00305_e0' since it already exists.\n",
      "Ignoring reaction 'EX_cpd00159_e0' since it already exists.\n",
      "Ignoring reaction 'EX_cpd00540_e0' since it already exists.\n",
      "Ignoring reaction 'EX_cpd00009_e0' since it already exists.\n",
      "Ignoring reaction 'EX_cpd15606_e0' since it already exists.\n",
      "Ignoring reaction 'EX_cpd10516_e0' since it already exists.\n",
      "Ignoring reaction 'EX_cpd00971_e0' since it already exists.\n",
      "Ignoring reaction 'EX_cpd00030_e0' since it already exists.\n",
      "Ignoring reaction 'EX_cpd00149_e0' since it already exists.\n",
      "Ignoring reaction 'EX_cpd01914_e0' since it already exists.\n",
      "Ignoring reaction 'EX_cpd00531_e0' since it already exists.\n",
      "Ignoring reaction 'EX_cpd11583_e0' since it already exists.\n",
      "Ignoring reaction 'EX_cpd11589_e0' since it already exists.\n",
      "Ignoring reaction 'EX_cpd00027_e0' since it already exists.\n",
      "Ignoring reaction 'EX_cpd00794_e0' since it already exists.\n",
      "Ignoring reaction 'EX_cpd00226_e0' since it already exists.\n",
      "Ignoring reaction 'EX_cpd11588_e0' since it already exists.\n",
      "Ignoring reaction 'EX_cpd00048_e0' since it already exists.\n",
      "Ignoring reaction 'EX_cpd15604_e0' since it already exists.\n"
     ]
    },
    {
     "name": "stderr",
     "output_type": "stream",
     "text": [
      "Ignoring reaction 'EX_cpd00104_e0' since it already exists.\n",
      "Ignoring reaction 'EX_cpd00007_e0' since it already exists.\n",
      "Ignoring reaction 'EX_cpd03424_e0' since it already exists.\n",
      "Ignoring reaction 'EX_cpd11592_e0' since it already exists.\n",
      "Ignoring reaction 'EX_cpd11587_e0' since it already exists.\n",
      "Ignoring reaction 'EX_cpd00092_e0' since it already exists.\n",
      "Ignoring reaction 'EX_cpd11590_e0' since it already exists.\n",
      "Ignoring reaction 'EX_cpd11581_e0' since it already exists.\n",
      "Ignoring reaction 'EX_cpd00205_e0' since it already exists.\n",
      "Ignoring reaction 'EX_cpd11584_e0' since it already exists.\n",
      "Ignoring reaction 'EX_cpd00158_e0' since it already exists.\n",
      "Ignoring reaction 'EX_cpd00039_e0' since it already exists.\n",
      "Ignoring reaction 'EX_cpd00011_e0' since it already exists.\n",
      "Ignoring reaction 'EX_cpd00063_e0' since it already exists.\n",
      "Ignoring reaction 'EX_cpd00034_e0' since it already exists.\n",
      "Ignoring reaction 'EX_cpd00099_e0' since it already exists.\n",
      "Ignoring reaction 'EX_cpd11746_e0' since it already exists.\n",
      "Ignoring reaction 'EX_cpd11746_b' since it already exists.\n"
     ]
    },
    {
     "name": "stdout",
     "output_type": "stream",
     "text": [
      "1576\n"
     ]
    }
   ],
   "source": [
    "count=0\n",
    "for i in model3.reactions:\n",
    "    if(str(i.id)==\"EX_cpd11416_c0\"):\n",
    "        continue\n",
    "    reaction=model3.reactions.get_by_id(str(i.id))\n",
    "    reaction.reaction\n",
    "    count=count+1\n",
    "    model.add_reactions([reaction])\n",
    "        \n",
    "print(count)"
   ]
  },
  {
   "cell_type": "code",
   "execution_count": 21,
   "id": "65b3f10d",
   "metadata": {},
   "outputs": [
    {
     "name": "stdout",
     "output_type": "stream",
     "text": [
      "3962\n",
      "4027\n",
      "2336\n"
     ]
    }
   ],
   "source": [
    "print(len(model.reactions))\n",
    "print(len(model.metabolites))\n",
    "print(len(model.genes))"
   ]
  },
  {
   "cell_type": "code",
   "execution_count": 22,
   "id": "4a92098d",
   "metadata": {},
   "outputs": [],
   "source": [
    "from cobra import Metabolite\n",
    "cpd11416_c0 = Metabolite(\n",
    "    'cpd11416_c0',\n",
    "    name='Complete_Biomass',\n",
    "    compartment='c0')"
   ]
  },
  {
   "cell_type": "code",
   "execution_count": 23,
   "id": "96b6d0f3",
   "metadata": {},
   "outputs": [],
   "source": [
    "from cobra import Metabolite\n",
    "cpd11416_b = Metabolite(\n",
    "    'cpd11416_b',\n",
    "    name='Complete_Biomass',\n",
    "    compartment='e0'\n",
    "    )"
   ]
  },
  {
   "cell_type": "code",
   "execution_count": 24,
   "id": "39f81852",
   "metadata": {},
   "outputs": [
    {
     "name": "stdout",
     "output_type": "stream",
     "text": [
      "1576\n"
     ]
    }
   ],
   "source": [
    "reaction = Reaction('Bio1')\n",
    "reaction.name = ('Community_biomass')\n",
    "reaction.lower_bound = 0\n",
    "reaction.upper_bound = 1000\n",
    "\n",
    "reaction.add_metabolites({model1.metabolites.get_by_id(\"cpd11416_c0bsp\"): -0.40,\n",
    "                          model2.metabolites.get_by_id(\"cpd11416_c0ml\"): -0.38,\n",
    "                          model3.metabolites.get_by_id(\"cpd11416_c0nc\"): -0.22,\n",
    "                          cpd11416_c0: 1\n",
    "                         })\n",
    "\n",
    "        \n",
    "reaction.reaction\n",
    "model.add_reactions([reaction])\n",
    "print(count)"
   ]
  },
  {
   "cell_type": "code",
   "execution_count": 25,
   "id": "6a77cdc0",
   "metadata": {},
   "outputs": [],
   "source": [
    "reaction = Reaction('EX_cpd11416_c0')\n",
    "reaction.name = ('EX_cpd11416_c0')\n",
    "reaction.lower_bound = 0\n",
    "reaction.upper_bound = 1000\n",
    "\n",
    "reaction.add_metabolites({\n",
    "                          model.metabolites.get_by_id(\"cpd11416_c0\"): -1,\n",
    "                          cpd11416_b: 1\n",
    "                        })\n",
    "\n",
    "        \n",
    "reaction.reaction\n",
    "model.add_reactions([reaction])"
   ]
  },
  {
   "cell_type": "code",
   "execution_count": 26,
   "id": "05d6a686",
   "metadata": {},
   "outputs": [
    {
     "name": "stdout",
     "output_type": "stream",
     "text": [
      "3964\n",
      "4028\n",
      "2336\n"
     ]
    }
   ],
   "source": [
    "print(len(model.reactions))\n",
    "print(len(model.metabolites))\n",
    "print(len(model.genes))"
   ]
  },
  {
   "cell_type": "code",
   "execution_count": 27,
   "id": "3e30bade",
   "metadata": {},
   "outputs": [],
   "source": [
    "model.objective = 'Bio1'"
   ]
  },
  {
   "cell_type": "code",
   "execution_count": 30,
   "id": "50a7ca19",
   "metadata": {},
   "outputs": [],
   "source": [
    "cobra.io.write_sbml_model(model,'GCM/GCM_P1_P5_P6.xml')"
   ]
  },
  {
   "cell_type": "code",
   "execution_count": null,
   "id": "152aa555",
   "metadata": {},
   "outputs": [],
   "source": []
  }
 ],
 "metadata": {
  "kernelspec": {
   "display_name": "Python 3 (ipykernel)",
   "language": "python",
   "name": "python3"
  },
  "language_info": {
   "codemirror_mode": {
    "name": "ipython",
    "version": 3
   },
   "file_extension": ".py",
   "mimetype": "text/x-python",
   "name": "python",
   "nbconvert_exporter": "python",
   "pygments_lexer": "ipython3",
   "version": "3.12.4"
  }
 },
 "nbformat": 4,
 "nbformat_minor": 5
}
